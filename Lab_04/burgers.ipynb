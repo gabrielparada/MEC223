{
 "cells": [
  {
   "cell_type": "markdown",
   "metadata": {},
   "source": [
    "##### Contenido bajo Creative Commons Attribution license CC-BY 4.0. (c) 2015 C. Cooper y O. Skurtys, código bajo licencia MIT. Basado en [CFDPython](https://github.com/barbagroup/CFDPython), CC-BY 4.0 L. Barba."
   ]
  },
  {
   "cell_type": "markdown",
   "metadata": {},
   "source": [
    "# Ecuaciones diferenciales parciales\n",
    "\n",
    "¡Bienvenidos al cuarto laboratorio! En el laboratorio anterior vimos ecuaciones diferenciales ordinarias (EDO), donde la función desconocida depende de una sola variable. En las ecuaciones diferenciales parciales (EDP) esta función puede depender de cualquier número de variables. En este laboratorio vamos a aprender a resolver ecuaciones diferenciales parciales numéricamente.\n",
    "\n",
    "Ya que vivimos en un mundo tridimensional, y además el tiempo pasa inexorablemente, encontramos EDPs en la mayoría de los modelos que usamos para simular fenómenos físicos: la ecuación de onda, de calor, electrodinámica, Navier-Stokes, etc. \n",
    "\n",
    "La clase pasada revisamos la discretización de EDPs usando la ecuación de convección y difusión en 1D como ejemplo, lo que repasaremos a continuación. En este laboratorio ustedes implementarán varias cosas: las ecuaciones de convección no lineal, difusión y Burgers en una dimensión. Como extra, implementarán las ecuaciones de convección no lineal y difusión en 2D, lo que pueden hacer fuera del horario de clases si es que no alcanzan.\n",
    "\n",
    "## Teoría\n",
    "\n",
    "### Discretización\n",
    "\n",
    "Para repasar los principales conceptos, usaremos la ecuación de convección lineal en una dimensión:\n",
    "\n",
    "\\begin{equation}\n",
    "\\frac{\\partial u}{\\partial t} + c \\frac{\\partial u}{\\partial x} = 0.\n",
    "\\end{equation}\n",
    "\n",
    "En este caso, existen dos derivadas: una temporal $(t)$ y otra espacial $(x)$, y necesitamos generar una malla que abarque ambas componentes:\n",
    "\n",
    "<img src=\"mesh.png\"width=\"300px\">\n",
    "\n",
    "En el laboratorio 2 vimos que podemos tratar las derivadas usando diferencia adelantada, centrada, o atrasada; por lo tanto, tenemos 6 combinaciones posibles de discretización. Por ejemplo, la discretización atrasada en espacio y adelantada en tiempo da la siguiente ecuación:\n",
    "\n",
    "\\begin{equation}\n",
    "\\frac{u_{i}^{n+1} - u_i^n}{\\Delta t} + c \\frac{u_{i+1}^{n} - u_i^n}{\\Delta x},\n",
    "\\end{equation}\n",
    "\n",
    "donde el subíndice $i$ recorre la componente espacial de la malla (con espaciamiento $\\Delta x$) y el superíndice $n$ la componente temporal (con pasos de tiempo $\\Delta t$). Podemos reescribir esta ecuación poniendo las incógnitas a la izquierda y lo conocido a la derecha:\n",
    "\n",
    "\\begin{equation}\n",
    "u_{i}^{n+1} = u_i^n - \\frac{c \\Delta t}{\\Delta x} \\left( u_{i}^{n} - u_{i-1}^n \\right)\n",
    "\\end{equation}\n",
    "\n",
    "Gráficamente, podemos representar la ecuación de la siguiente forma:\n",
    "\n",
    "<img src=\"stencil.png\"width=\"200px\">\n",
    "\n",
    "### Ejemplo: una onda cuadrada\n",
    "\n",
    "Vamos a calcular numéricamente la ecuación de convección lineal en un dominio entre 0 y 2, con $c=1$. La condición inicial es una función que vale 1 en todas partes, menos entre 0.5 y 1, donde es dos. Dibujemos la condición inicial."
   ]
  },
  {
   "cell_type": "code",
   "execution_count": null,
   "metadata": {},
   "outputs": [],
   "source": [
    "import numpy\n",
    "import matplotlib.pyplot as plt\n",
    "%matplotlib inline\n",
    "from matplotlib import rcParams\n",
    "rcParams['font.family'] = 'serif'\n",
    "rcParams['font.size'] = 16\n",
    "\n",
    "nx = 41\n",
    "dx = 2./(nx-1)\n",
    "x  = numpy.linspace(0, 2, nx) \n",
    "\n",
    "u_inicial = numpy.ones(nx)\n",
    "u_inicial[0.5/dx:1/dx+1] = 2.0\n",
    "plt.plot(x, u_inicial, c='k', lw=2)\n",
    "plt.ylim([0,2.5])"
   ]
  },
  {
   "cell_type": "markdown",
   "metadata": {},
   "source": [
    "La ecuación de convección lineal es una forma de la ecuación de onda. Para una condición inicial $u_0(x)$ la solución exacta es $u(x-ct)$, por lo tanto, esperaríamos que esta función cuadrada se mueva hacia la derecha con velocidad $c$ manteniendo su forma: es una onda cuadrada. \n",
    "\n",
    "Evaluemos la función después de 20 pasos de tiempo a ver si es así. Para probar, usemos $\\Delta t = 0.02$"
   ]
  },
  {
   "cell_type": "code",
   "execution_count": null,
   "metadata": {},
   "outputs": [],
   "source": [
    "def ftbs(u, nt, nx, c, dt, dx):\n",
    "    for n in range(1,nt):  \n",
    "        un = u.copy() \n",
    "        for i in range(1,nx): \n",
    "            u[i] = un[i]-c*dt/dx*(un[i]-un[i-1])\n",
    "    return u\n",
    "            \n",
    "nt = 20\n",
    "dt = 0.02\n",
    "c  = 1\n",
    "u = u_inicial.copy()\n",
    "u  = ftbs(u, nt, nx, c, dt, dx)\n",
    "plt.plot(x, u, c='k', lw=2)\n",
    "plt.ylim([0,2.5]);"
   ]
  },
  {
   "cell_type": "markdown",
   "metadata": {},
   "source": [
    "La onda efectivamente se movió hace la derecha con una velocidad $c=1$, pero perdió su forma cuadrada por efectos de difusión numérica.\n",
    "\n",
    "Al refinar la malla, la difusión numérica disminuye. Veremos más detalle de esto en clases.\n",
    "\n",
    "### Condición Courant-Friedrichs-Lewy\n",
    "\n",
    "Sería ideal que la solución avanzara más rápido. Del laboratorio 2 sabemos que la ecuación discretizada con diferencias adelantadas en tiempo cae como $\\mathcal{O}(\\Delta t)$, pero si no estamos tan preocupados de la exactitud, podemos aumentar $\\Delta t$ para obtener la solución antes ¿Existe algún límite para esto? Probemos $\\Delta t = 0.1$"
   ]
  },
  {
   "cell_type": "code",
   "execution_count": null,
   "metadata": {},
   "outputs": [],
   "source": [
    "dt = 0.1\n",
    "u = u_inicial.copy()\n",
    "u  = ftbs(u, nt, nx, c, dt, dx)\n",
    "plt.plot(x, u, c='k', lw=2)\n",
    "plt.ylim([0,2.5]);"
   ]
  },
  {
   "cell_type": "markdown",
   "metadata": {},
   "source": [
    "¡Algo anda claramente mal! ¿Por qué no funciona para estos parámetros? \n",
    "\n",
    "La razón es que la solución numérica se torna inestable para $\\sigma = \\frac{c\\Delta t}{\\Delta x}>1$, donde $\\sigma$ es el número de Courant. Esto se conoce como la condición CFL.\n",
    "\n",
    "En este caso $\\sigma = \\frac{1\\cdot0.1}{\\frac{2}{40}} = 2$, por lo tanto la solución numérica es inestable. Prueben con otros valores de $\\Delta t$ para convencerse, y veremos la teoría detrás en clases.\n",
    "\n",
    "## Ahora les toca a ustedes\n",
    "\n",
    "### Convección no lineal\n",
    "\n",
    "La ecuación de convección no lineal es\n",
    "\n",
    "\\begin{equation}\n",
    "\\frac{\\partial u}{\\partial t} + u \\frac{\\partial u}{\\partial x} = 0.\n",
    "\\end{equation}\n",
    "\n",
    "Como ven, es muy parecida al caso lineal, sin embargo, en vez de tener una velocidad constante $c$, ésta es $u$. Para el caso lineal, la onda cuadrada se movía hacia la derecha con velocidad $c$ ¿Qué creen ustedes que pasará ahora?\n",
    "\n",
    "Al discretizar con diferencia adelantada en el tiempo y atrasada en el espacio, nos queda:\n",
    "\n",
    "\\begin{equation}\n",
    "\\frac{u_{i}^{n+1} - u_i^n}{\\Delta t} + u_i \\frac{u_{i+1}^{n} - u_i^n}{\\Delta x},\n",
    "\\end{equation}\n",
    "\n",
    "Implementen una función que evalúe la ecuación de convección no lineal para la onda cuadrada tras 20 pasos de tiempo con $\\Delta t = 0.02$, con la misma malla que el caso lineal.\n",
    "\n",
    "Comenten sobre la forma de la onda en el último paso de tiempo ¿Es diferente al caso lineal? ¿Por qué?"
   ]
  },
  {
   "cell_type": "code",
   "execution_count": null,
   "metadata": {},
   "outputs": [],
   "source": [
    "### ALUMNO\n",
    "#def ftbs_nl(u, nt, nx, dt, dx):\n",
    "#Hacer función para calcular caso nolineal \n",
    "###"
   ]
  },
  {
   "cell_type": "markdown",
   "metadata": {},
   "source": [
    "### Difusión de la onda cuadrada\n",
    "\n",
    "La ecuación de convección cae en la clasificación de ecuación hiperbólica. Otra familia de ecuaciones son las parabolicas, y el caso más conocido es la ecuación de difusión. En una dimensión ésta es:\n",
    "\n",
    "\\begin{equation}\n",
    "\\frac{\\partial u}{\\partial t} - \\nu \\frac{\\partial² u}{\\partial x²} = 0.\n",
    "\\end{equation}\n",
    "\n",
    "Una aplicación común de la ecuación de difusión es la ecuación de conducción de calor, donde $u$ sería la temperatura. \n",
    "\n",
    "Vimos en el laboratorio 2 que la mejor manera de discretizar le segunda derivada era usando diferencia centrada. Así, la versión discretizada de la ecuación de difusión es:\n",
    "\n",
    "\\begin{equation}\n",
    "\\frac{u_{i}^{n+1} - u_i^n}{\\Delta t} - \\nu \\frac{u_{i+1}^{n} - 2u_i^n + u_{i-1}^{n}}{(\\Delta x)²} = 0.\n",
    "\\end{equation}\n",
    "\n",
    "¿Qué pasa si la onda cuadrada se ve sujeta a difusión? Hagan una función que calcule esto numéricamente por 20 pasos de tiempo con $\\Delta t=0.001$, y $\\nu = 0.5$. Fíjense que en este caso necesitamos los dos puntos vecinos (el de adelante y atrás) ¿puede el `for` llegar hasta el final del arreglo?\n",
    "\n",
    "La ecuación de difusión tiene su propia condición CFL:\n",
    "\n",
    "\\begin{equation}\n",
    "\\frac{\\nu \\Delta t}{(\\Delta x)²} < \\frac{1}{2}\n",
    "\\end{equation}\n",
    "\n",
    "Cambien $\\Delta t=0.005$ ¿Qué pasa? ¿Por qué?"
   ]
  },
  {
   "cell_type": "code",
   "execution_count": null,
   "metadata": {},
   "outputs": [],
   "source": [
    "### ALUMNO\n",
    "#def ftcs(u, nt, nx, nu, dt, dx):\n",
    "# Hacer función para ecuación de difusión\n",
    "###"
   ]
  },
  {
   "cell_type": "markdown",
   "metadata": {},
   "source": [
    "## Combinando convección y difusión: ecuación de Burgers en 1-D\n",
    "\n",
    "### La ecuación de Burgers\n",
    "\n",
    "La ecuación de Burgers viscosa es una suma entre un término convectivo no-lineal y un término difusivo. Se escribe:\n",
    "\n",
    "\\begin{equation}\n",
    "\\frac{\\partial u}{\\partial t} + u \\frac{\\partial u}{\\partial x} - \\nu \\frac{\\partial^2 u}{\\partial x^2} = 0,\n",
    "\\end{equation}\n",
    "\n",
    "donde la no-linealidad está dada por que al lado de la derivada temporal hay una $u$ en vez de una constante $c$.\n",
    "\n",
    "Esta ecuación es muy parecida a Navier-Stokes (sin el término de presión), y se usa mucho como una simplificación de ésta, por ejemplo, en estudios numéricos de turbulencia. \n",
    "\n",
    "La ecuación de Burgers discretizada con diferencia adelantada en el tiempo, atrasada en el espacio para la diferencial de primer orden, y centrada para la segunda derivada queda:\n",
    "\n",
    "\\begin{equation}\n",
    "\\frac{u_{i}^{n+1} - u_i^n}{\\Delta t} + u_i^n \\frac{u_{i}^{n} - u_{i-1}^n}{\\Delta x} - \\nu \\frac{u_{i+1}^{n} - 2 u_i^n + u_{i+1}^{n}}{(\\Delta x)^2} = 0.\n",
    "\\end{equation}\n",
    "\n",
    "### Condiciones iniciales y de borde\n",
    "\n",
    "Para este ejercicio, calcularemos la ecuación de Burgers en el dominio $[0,2\\pi]$ con condición inicial:\n",
    "\n",
    "\\begin{eqnarray}\n",
    "u &=& -\\frac{2 \\nu}{\\phi} \\frac{\\partial \\phi}{\\partial x} + 4 \\\\\\\n",
    "\\phi(t=0) = \\phi_0 &=& \\exp \\bigg(\\frac{-x^2}{4 \\nu} \\bigg) + \\exp \\bigg(\\frac{-(x-2 \\pi)^2}{4 \\nu} \\bigg)\n",
    "\\end{eqnarray}\n",
    "\n",
    "y condiciones de borde $u(0)=u(2\\pi)$.\n",
    "\n",
    "¿Ven algo raro en esas condiciones de borde? Más que especificar un valor para $u$ o su derivada, estamos diciendo que cualquiera sea el valor en el borde derecho, éste se traspasa al borde izquierdo. Esto se conoce como una condición de borde periódica, y es equivalente a decir que lo que pasa que el dominio se repite cada $2\\pi$. En otras palabras, el punto en $0$ y en $2\\pi$ son el mismo punto. Cuando implementen las condiciones de borde, piensen en quienes son los nodos vecinos del nodo en $0$ y $2\\pi$.\n",
    "\n",
    "La siguiente función es una implementación de la condición inicial:"
   ]
  },
  {
   "cell_type": "code",
   "execution_count": null,
   "metadata": {
    "collapsed": true
   },
   "outputs": [],
   "source": [
    "from math import pi\n",
    "\n",
    "def cond_inicial(x, nu):\n",
    "    phi    = numpy.exp(-x*x/(4*nu)) + numpy.exp(-(x-2*pi)**2/(4*nu))\n",
    "    dphidx = -x/(2*nu) * numpy.exp(-x*x/(4*nu)) + \\\n",
    "                -(x-2*pi)/(2*nu) * numpy.exp(-(x-2*pi)**2/(4*nu))\n",
    "    \n",
    "    return -2*nu/phi * dphidx + 4   "
   ]
  },
  {
   "cell_type": "markdown",
   "metadata": {},
   "source": [
    "Grafiquémosla para tener una mejor idea. Usemos una malla con 101 nodos y $\\nu=0.1$:"
   ]
  },
  {
   "cell_type": "code",
   "execution_count": null,
   "metadata": {},
   "outputs": [],
   "source": [
    "nx = 101\n",
    "x  = numpy.linspace(0, 2*pi, nx)\n",
    "nu = 0.1\n",
    "\n",
    "u0 = cond_inicial(x, nu)\n",
    "\n",
    "plt.plot(x, u0, c='k', lw=2)\n",
    "plt.xlim([0,2*pi])\n",
    "plt.ylim([0,8]);"
   ]
  },
  {
   "cell_type": "markdown",
   "metadata": {},
   "source": [
    "### Solución analítica\n",
    "\n",
    "La ecuación de Burgers con las condiciones iniciales y de borde descritas arriba tiene la siguiente solución analítica:\n",
    "\n",
    "\\begin{eqnarray}\n",
    "u &=& -\\frac{2 \\nu}{\\phi} \\frac{\\partial \\phi}{\\partial x} + 4 \\\\\\\n",
    "\\phi &=& \\exp \\bigg(\\frac{-(x-4t)^2}{4 \\nu (t+1)} \\bigg) + \\exp \\bigg(\\frac{-(x-4t -2 \\pi)^2}{4 \\nu(t+1)} \\bigg)\n",
    "\\end{eqnarray}\n",
    "\n",
    "Para ayudarlos un poco, les entregaremos una función que entrega la solución analítica dado $x$, $t$, y $\\nu$:"
   ]
  },
  {
   "cell_type": "code",
   "execution_count": null,
   "metadata": {
    "collapsed": true
   },
   "outputs": [],
   "source": [
    "def sol_analitica(x, t, nu):\n",
    "    phi    = numpy.exp(-(x-4*t)**2/(4*nu*(t+1))) + numpy.exp(-(x-4*t-2*pi)**2/(4*nu*(t+1)))\n",
    "    dphidx = -(x-4*t)/(2*nu*(t+1)) * numpy.exp(-(x-4*t)**2/(4*nu*(t+1))) + \\\n",
    "                -(x-4*t-2*pi)/(2*nu*(t+1)) * numpy.exp(-(x-4*t-2*pi)**2/(4*nu*(t+1)))\n",
    "    \n",
    "    return -2*nu/phi * dphidx + 4   "
   ]
  },
  {
   "cell_type": "markdown",
   "metadata": {},
   "source": [
    "### Ejercicio\n",
    "\n",
    "Compare con la solución analítica para mallas con 21, 41, 81 y 161 nodos y $\\Delta t=0.001$ en el tiempo $t=0.5$ con $\\nu=0.5$. Usen el error L2 (Laboratorio 2), y hagan un gráfico *log-log* comparando el error y $\\Delta x$ para cada caso. ¿Cuál es el orden de aproximación con respecto a $\\Delta x$? Considerando que tenemos aproximaciones de primer y segundo orden (derivada y segunda derivada) ¿Es lo que esperaba?\n",
    "\n",
    "Cambien $\\nu$ a $\\nu=0.01$ y verán que la solución tiene una pendiente mayor. En un gráfico, sobreponga la solución analítica y la numérica para cada caso. ¿Es la solución numérica capaz de reproducir la forma \"zig-zag\" de la solución? ¿Por qué? ¿Cuál es la influencia de la malla en esto? Si grafican el error versus $\\Delta x$ parece que el método ya no converge ¿Qué deben hacer para que si converja?\n",
    "\n",
    "Cambien el valor de $\\nu$ a $\\nu=0.001$. ¿Qué ocurre? ¿Por qué es inestable si no hemos cambiado $\\Delta t$ ni $\\Delta x$? "
   ]
  },
  {
   "cell_type": "code",
   "execution_count": null,
   "metadata": {},
   "outputs": [],
   "source": [
    "#### ALUMNO\n",
    "#def burgers(u, nu, dt, dx, nt):\n",
    "# Hacer función para calcular ecuación de Burger,\n",
    "# grafique el error para cada caso.\n",
    "####"
   ]
  },
  {
   "cell_type": "markdown",
   "metadata": {
    "collapsed": true
   },
   "source": [
    "## Extra: EDP en dos dimensiones\n",
    "\n",
    "Como esfuerzo extra, vamos a revisar la solución de convección y difusión en dos dimensiones.\n",
    "\n",
    "### Convección lineal\n",
    "\n",
    "Veamos primero el caso de convección lineal. Vamos a usar la condición incial equivalente: una función cuadrada en 2 dimensiones, en un dominio $[0,2]\\times[0,2]$, con condición inicial es $u=1$ en todas partes menos en $[0.5,1]\\times[0.5,1]$, donde $u=2$. Usaremos $\\Delta x = \\Delta y = 0.02$ y $\\Delta t = 0.005$, y graficaremos $u$ en $t=0.5$."
   ]
  },
  {
   "cell_type": "code",
   "execution_count": null,
   "metadata": {},
   "outputs": [],
   "source": [
    "nx = 101\n",
    "ny = 101\n",
    "dx = 2./(nx-1)\n",
    "dy = 2./(ny-1)\n",
    "dt = 0.005\n",
    "nt = int(0.5/dt)\n",
    "\n",
    "x = numpy.linspace(0,2,nx)\n",
    "y = numpy.linspace(0,2,ny)\n",
    "\n",
    "u_inicial = numpy.ones((ny,nx)) \n",
    "u_inicial[.5/dy:1/dy+1,.5/dx:1/dx+1]=2 "
   ]
  },
  {
   "cell_type": "markdown",
   "metadata": {},
   "source": [
    "Para visualizar los resultados, usaremos una librería que grafica en 3D. Por ejemplo, la condición inicial se ve así:"
   ]
  },
  {
   "cell_type": "code",
   "execution_count": null,
   "metadata": {},
   "outputs": [],
   "source": [
    "from mpl_toolkits.mplot3d import Axes3D\n",
    "fig = plt.figure(figsize=(11,7), dpi=100)\n",
    "ax = fig.gca(projection='3d')\n",
    "X,Y = numpy.meshgrid(x,y)\n",
    "\n",
    "ax.plot_surface(X,Y,u_inicial, cmap='coolwarm');"
   ]
  },
  {
   "cell_type": "markdown",
   "metadata": {},
   "source": [
    "En 2 dimensiones, la ecuación de convección lineal es\n",
    "\n",
    "\\begin{equation}\n",
    "\\frac{\\partial u}{\\partial t} + c \\frac{\\partial u}{\\partial x} + c\\frac{\\partial u}{\\partial y} = 0\n",
    "\\end{equation}\n",
    "\n",
    "la cual, al discretizar con diferencia adelantada en tiempo y atrasada en espacio, queda\n",
    "\n",
    "\\begin{equation}\n",
    "\\frac{u_{i,j}^{n+1}-u_{i,j}^n}{\\Delta t} + c\\frac{u_{i, j}^n-u_{i-1,j}^n}{\\Delta x} + c\\frac{u_{i,j}^n-u_{i,j-1}^n}{\\Delta y}=0\n",
    "\\end{equation}\n",
    "\n",
    "Donde $i$ recorre el eje $x$ y $j$ el eje $y$. "
   ]
  },
  {
   "cell_type": "markdown",
   "metadata": {},
   "source": [
    "Esta es una onda cuadrada similar al ejemplo que dimos al principio, pero en 2 dimensiones ¿En qué dirección creen ustedes que se moverá? ¿Por qué?\n",
    "\n",
    "Comenten sobre la forma final de la onda ¿Por qué no mantiene su forma cuadrada?"
   ]
  },
  {
   "cell_type": "code",
   "execution_count": null,
   "metadata": {},
   "outputs": [],
   "source": [
    "def ftbs2d(u, dx, dy, c, dt, nt):\n",
    "\n",
    "    \n",
    "    for n in range(nt+1): ##loop across number of time steps\n",
    "        un = u.copy()\n",
    "        row, col = u.shape\n",
    "        for j in range(1, row):\n",
    "            for i in range(1, col):\n",
    "                u[j,i] = un[j, i] - (c*dt/dx*(un[j,i] - un[j,i-1]))-(c*dt/dy*(un[j,i]-un[j-1,i]))\n",
    "                u[0,:] = 1\n",
    "                u[-1,:] = 1\n",
    "                u[:,0] = 1\n",
    "                u[:,-1] = 1\n",
    "            \n",
    "\n",
    "    return u\n",
    "\n",
    "c = 1\n",
    "u = u_inicial.copy()\n",
    "u = ftbs2d(u, dx, dy, c, dt, nt)\n",
    "\n",
    "fig = plt.figure(figsize=(11,7), dpi=100)\n",
    "ax = fig.gca(projection='3d')\n",
    "ax.plot_surface(X,Y,u, cmap='coolwarm');"
   ]
  },
  {
   "cell_type": "markdown",
   "metadata": {},
   "source": [
    "### Convección no lineal\n",
    "\n",
    "La ecuación de convección no lineal es un poco más complicada en 2D. En realidad, es un set de dos ecuaciones diferenciales parciales acopladas\n",
    "\n",
    "\\begin{align}\n",
    "\\frac{\\partial u}{\\partial t} + u \\frac{\\partial u}{\\partial x} + v\\frac{\\partial u}{\\partial y} &= 0 \\\\\n",
    "\\frac{\\partial v}{\\partial t} + u \\frac{\\partial v}{\\partial x} + v\\frac{\\partial v}{\\partial y} &= 0\n",
    "\\end{align}\n",
    "\n",
    "Discretizada con diferencia adelantada en tiempo y atrasada en espacio es:\n",
    "\n",
    "\\begin{align}\n",
    "\\frac{u_{i,j}^{n+1}-u_{i,j}^n}{\\Delta t} + u_{i,j}^n \\frac{u_{i,j}^n-u_{i-1,j}^n}{\\Delta x} + v_{i,j}^n \\frac{u_{i,j}^n-u_{i,j-1}^n}{\\Delta y} &= 0 \\\\\n",
    "\\frac{v_{i,j}^{n+1}-v_{i,j}^n}{\\Delta t} + u_{i,j}^n \\frac{v_{i,j}^n-v_{i-1,j}^n}{\\Delta x} + v_{i,j}^n \\frac{v_{i,j}^n-v_{i,j-1}^n}{\\Delta y} &= 0,\n",
    "\\end{align}\n",
    "\n",
    "y despejando,\n",
    "\n",
    "\\begin{align}\n",
    "u_{i,j}^{n+1} &= u_{i,j}^n - u_{i,j} \\frac{\\Delta t}{\\Delta x} (u_{i,j}^n-u_{i-1,j}^n) - v_{i,j}^n \\frac{\\Delta t}{\\Delta y} (u_{i,j}^n-u_{i,j-1}^n) \\\\\n",
    "v_{i,j}^{n+1} &= v_{i,j}^n - u_{i,j} \\frac{\\Delta t}{\\Delta x} (v_{i,j}^n-v_{i-1,j}^n) - v_{i,j}^n \\frac{\\Delta t}{\\Delta y} (v_{i,j}^n-v_{i,j-1}^n).\n",
    "\\end{align}\n",
    "\n",
    "Escriban una función que resuelva este set de ecuaciones acopladas, y grafiquen $\\sqrt{u²+v²}$ para $t=0.5$, usando el mismo $\\Delta t$ que antes. \n",
    "\n",
    "Como ven, es muy parecido al caso lineal, solamente que en la función vamos a evaluar dos ecuaciones en vez de una. La condición inicial de $v$ es la misma que $u$:"
   ]
  },
  {
   "cell_type": "code",
   "execution_count": null,
   "metadata": {},
   "outputs": [],
   "source": [
    "v_inicial = numpy.ones((ny,nx))\n",
    "v_inicial[.5/dy:1/dy+1,.5/dx:1/dx+1]=2"
   ]
  },
  {
   "cell_type": "code",
   "execution_count": null,
   "metadata": {},
   "outputs": [],
   "source": [
    "### ALUMNO\n",
    "#def ftbs_2d(u, v, dx, dy, dt, nt):\n",
    "#Escriba función para onda no lineal en 2D\n",
    "###"
   ]
  },
  {
   "cell_type": "markdown",
   "metadata": {},
   "source": [
    "### Difusión\n",
    "\n",
    "Finalmente, la ecuación de difusión es\n",
    "\n",
    "\\begin{equation}\n",
    "\\frac{\\partial u}{\\partial t} - \\nu \\left(\\frac{\\partial² u}{\\partial x²} + \\frac{\\partial² u}{\\partial y²}\\right) = 0,\n",
    "\\end{equation}\n",
    "\n",
    "y se discretiza:\n",
    "\n",
    "\\begin{equation}\n",
    "\\frac{u_{i,j}^{n+1} - u_{i,j}^n}{\\Delta t} = \\nu \\frac{u_{i+1,j}^n - 2 u_{i,j}^n + u_{i-1,j}^n}{\\Delta x^2} + \\nu \\frac{u_{i,j+1}^n-2 u_{i,j}^n + u_{i,j-1}^n}{\\Delta y^2}\n",
    "\\end{equation}\n",
    "\n",
    "Escriban una función que calcule numéricamente esta ecuación para la condición inicial cuadrada con $\\nu=0.5$, al tiempo $t=0.01$ y grafiquen. Como sabemos que la ecuación de difusión tiene una condición CFL más estricta, usaremos un paso de tiempo muy pequeño $\\Delta t = 0.0001$ ¡La próxima semana veremos formas de evitar este problema!"
   ]
  },
  {
   "cell_type": "code",
   "execution_count": null,
   "metadata": {},
   "outputs": [],
   "source": [
    "###ALUMNO\n",
    "#def diffuse(u, dx, dy, dt, nt, nu):\n",
    "# Escriba función para ecuación de difusión en 2D\n",
    "###"
   ]
  }
 ],
 "metadata": {
  "kernelspec": {
   "display_name": "Python 3",
   "language": "python",
   "name": "python3"
  },
  "language_info": {
   "codemirror_mode": {
    "name": "ipython",
    "version": 3
   },
   "file_extension": ".py",
   "mimetype": "text/x-python",
   "name": "python",
   "nbconvert_exporter": "python",
   "pygments_lexer": "ipython3",
   "version": "3.6.1"
  }
 },
 "nbformat": 4,
 "nbformat_minor": 1
}
