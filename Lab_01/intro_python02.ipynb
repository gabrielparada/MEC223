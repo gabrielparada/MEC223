{
 "cells": [
  {
   "cell_type": "markdown",
   "metadata": {},
   "source": [
    "##### Contenido proveído bajo licencia Creative Commons Attribution, CC-BY 4.0. (c)2015 O. Skurtys y C. Cooper. Adaptado de JITcode-Mech, de L. Barba (CC-BY 4.0)."
   ]
  },
  {
   "cell_type": "markdown",
   "metadata": {},
   "source": [
    "# Introducción a Python, sesión 2"
   ]
  },
  {
   "cell_type": "markdown",
   "metadata": {},
   "source": [
    "Este segundo notebook de la primera sesión va a introducir el uso de funciones y graficar con **Matplotlib**. Vamos a usar ambos conceptos repetidamente en el semestre, así es que asegúrense de entender bien lo que vamos a ver a continuación."
   ]
  },
  {
   "cell_type": "markdown",
   "metadata": {},
   "source": [
    "## Contexto -- Posición de una turbina eólica\n",
    "\n",
    "![image](http://energy.gov/sites/prod/files/styles/borealis_photo_gallery_large_respondxl/public/windTurbineLabels.png?itok=TiZTB4yO)\n",
    "\n",
    "Estamos buscando la mejor ubicación para instalar una granja eólica a partir de data de la velocidad del viento en tres puntos específicos.\n",
    "\n",
    "Los principales criterios para tener en consideración son:\n",
    "\n",
    "* **Velocidad promedio del viento**: mientras más alto, más energía podemos extraer.\n",
    "* **Velocidad mínima del viento**: el controlador no soltará el freno de las aspas a menos que la velocidad del viento sea mayor a 8 mph (~3.6 m/s).\n",
    "* **Velocidad máxima del viento**: por motivos de seguridad, el controlador frena las aspas cuando la velocidad pasa cierto umbral, en este caso, 55 mph (~25 m/s).\n",
    "\n",
    "### Potencial problema\n",
    "Las mediciones de velocidad de viento para cada una de las tres locaciones están en los archivos `site1ms.csv`, `site2mph.csv` y `site3knot.csv`. Lamentablemente, las mediciones fueron hechas por diferentes personas y en diferentes unidades: metros por segundo, millas por hora y nudos, respectivamente. Considerando que estamos más acostumbrados a trabajar en metros por segundo, vamos a necesitar una función que transforme de millas por hora y nudos a metros por segundo. Los factores de conversión son:\n",
    "\n",
    "$$1 \\rm{mph} = .447 \\rm{m/s}$$\n",
    "$$1 \\rm{nudos} = .514 \\rm{m/s}$$\n",
    "\n",
    "\n",
    "Generar una función en Python es muy simple. Se define usando `def`, el nombre de la función, y sus variables de entrada, y lo que sea que devuelva se pone junto a la palabra `return`. Por ejemplo, la siguiente función hace el cambio de unidades de millas por hora a metros por segundo:"
   ]
  },
  {
   "cell_type": "code",
   "execution_count": 16,
   "metadata": {
    "collapsed": true
   },
   "outputs": [],
   "source": [
    "def mph_to_ms(speed):\n",
    "    return speed*.447\n",
    "\n",
    "\n",
    "def knot_to_ms(speed):\n",
    "    return speed*.514"
   ]
  },
  {
   "cell_type": "markdown",
   "metadata": {},
   "source": [
    "Hagan ustedes ahora una función para pasar de nudos a metros por segundo. La necesitarán después!\n",
    "\n",
    "Probemos la función `mph_to_ms`:"
   ]
  },
  {
   "cell_type": "code",
   "execution_count": 21,
   "metadata": {},
   "outputs": [
    {
     "data": {
      "text/plain": [
       "3.576"
      ]
     },
     "execution_count": 21,
     "metadata": {},
     "output_type": "execute_result"
    }
   ],
   "source": [
    "mph_to_ms(8) "
   ]
  },
  {
   "cell_type": "code",
   "execution_count": 22,
   "metadata": {},
   "outputs": [
    {
     "data": {
      "text/plain": [
       "4.112"
      ]
     },
     "execution_count": 22,
     "metadata": {},
     "output_type": "execute_result"
    }
   ],
   "source": [
    "knot_to_ms(8)"
   ]
  },
  {
   "cell_type": "markdown",
   "metadata": {},
   "source": [
    "Se acuerdan de `numpy`? Nos permitía operar sobre arreglos. Intentemos usar la función con un arreglo de `numpy`: "
   ]
  },
  {
   "cell_type": "code",
   "execution_count": 35,
   "metadata": {},
   "outputs": [
    {
     "data": {
      "text/plain": [
       "array([3, 4, 5, 6, 7, 8])"
      ]
     },
     "execution_count": 35,
     "metadata": {},
     "output_type": "execute_result"
    }
   ],
   "source": [
    "numpy.arange(3,9,1)"
   ]
  },
  {
   "cell_type": "code",
   "execution_count": 37,
   "metadata": {},
   "outputs": [
    {
     "name": "stdout",
     "output_type": "stream",
     "text": [
      "5.000 mph son 2.235 m/s\n",
      "7.000 mph son 3.129 m/s\n",
      "9.000 mph son 4.023 m/s\n",
      "11.000 mph son 4.917 m/s\n",
      "13.000 mph son 5.811 m/s\n"
     ]
    }
   ],
   "source": [
    "import numpy\n",
    "\n",
    "vel = numpy.arange(5, 14, 2)\n",
    "\n",
    "vel_ms = mph_to_ms(vel)\n",
    "\n",
    "for i in range(len(vel)):\n",
    "    print ('%1.3f mph son %1.3f m/s'%(vel[i], vel_ms[i]))\n"
   ]
  },
  {
   "cell_type": "markdown",
   "metadata": {},
   "source": [
    "## Trabajando con archivos\n",
    "Las mediciones están disponibles en los archivos `site1ms.csv`, `site2mph.csv` y `site3knot.csv`. Afortunadamente el nombre de los archivos dice explícitamente las unidades en que está la data, pero ¿como le decimos a Python la transformación que debe hacer?\n",
    "\n",
    "La forma más fácil es usando `in`. `in` compara dos palabras, y ve si una está contenida en la otra. Por ejemplo"
   ]
  },
  {
   "cell_type": "code",
   "execution_count": 38,
   "metadata": {},
   "outputs": [
    {
     "data": {
      "text/plain": [
       "True"
      ]
     },
     "execution_count": 38,
     "metadata": {},
     "output_type": "execute_result"
    }
   ],
   "source": [
    "'gol' in 'otorrinolaringologo'"
   ]
  },
  {
   "cell_type": "markdown",
   "metadata": {},
   "source": [
    "Ve si la palabra `gol` está contenida en la palabra `otorrinolaringologo`, lo cual es cierto. \n",
    "\n",
    "Ahora, debemos comparar los nombres de los archivos con `ms`, `mph` y `knot`, y sabremos en qué unidades están. Para iterar sobre los archivos, podemos usar `glob`:"
   ]
  },
  {
   "cell_type": "code",
   "execution_count": 47,
   "metadata": {},
   "outputs": [
    {
     "data": {
      "text/plain": [
       "12218"
      ]
     },
     "execution_count": 47,
     "metadata": {},
     "output_type": "execute_result"
    }
   ],
   "source": [
    "6718+5500"
   ]
  },
  {
   "cell_type": "code",
   "execution_count": 39,
   "metadata": {},
   "outputs": [
    {
     "name": "stdout",
     "output_type": "stream",
     "text": [
      "['site1ms.csv', 'site2mph.csv', 'site3knot.csv']\n"
     ]
    }
   ],
   "source": [
    "import glob\n",
    "archivos = glob.glob('*.csv')\n",
    "print (archivos)"
   ]
  },
  {
   "cell_type": "markdown",
   "metadata": {},
   "source": [
    "que nos entrega una lista con los archivos `.csv` disponibles.\n",
    "\n",
    "Los archivos contienen mediciones diarias entre el 1 de enero del 2012 y el 31 de diciembre del 2013. Si abren los archivos en un editor de texto, verán que la data está dispuesta en tres columnas, separados por una coma (csv = comma separated values). La primera fila no es más que el nombre de las columnas: \n",
    "\n",
    "* AWND - Average daily wind speed (Velocidad promedio diaria)\n",
    "* WSF2 - Fastest 2-minute wind speed (Velocidad máxima que duró 2 minutos)\n",
    "* WSF5 - Fastest 5-second wind speed  (Velocidad máxima que duró 5 segundos)\n",
    "\n",
    "Para importar la data a un arreglo de `numpy` podemos usar [`loadtxt`](http://docs.scipy.org/doc/numpy/reference/generated/numpy.loadtxt.html). La siguiente función va a tomar un archivo, leer la data y convertir las unidades (si es necesario)."
   ]
  },
  {
   "cell_type": "code",
   "execution_count": 40,
   "metadata": {},
   "outputs": [],
   "source": [
    "def check_and_convert(fname):\n",
    "    if 'mph' in fname:\n",
    "        speeddata = numpy.loadtxt(fname,delimiter=',', skiprows=1)\n",
    "        print (\"Converting from mph to ms\")\n",
    "        return mph_to_ms(speeddata)\n",
    "    \n",
    "    if 'knot' in fname:\n",
    "        speeddata = numpy.loadtxt(fname,delimiter=',', skiprows=1)\n",
    "        print (\"Converting from knot to ms\")\n",
    "        return knot_to_ms(speeddata)\n",
    "    \n",
    "    if 'ms' in fname:\n",
    "        speeddata = numpy.loadtxt(fname,delimiter=',', skiprows=1)\n",
    "        print (\"No conversion needed\")\n",
    "        return speeddata\n"
   ]
  },
  {
   "cell_type": "code",
   "execution_count": 43,
   "metadata": {},
   "outputs": [
    {
     "name": "stdout",
     "output_type": "stream",
     "text": [
      "No conversion needed\n",
      "Converting from mph to ms\n",
      "Converting from knot to ms\n"
     ]
    }
   ],
   "source": [
    "loc_1 = check_and_convert(archivos[0])\n",
    "loc_2 = check_and_convert(archivos[1])\n",
    "loc_3 = check_and_convert(archivos[2])"
   ]
  },
  {
   "cell_type": "markdown",
   "metadata": {},
   "source": [
    "Listo, las mediciones de la locación 1 están en el arreglo `loc_1`, y los de la locación 2 en `loc_2`. Falta la locación 3: acuérdense de hacer la función para convertir de nudos a metros por segundo.\n",
    "\n",
    "Miremos la forma de esos arreglos:  "
   ]
  },
  {
   "cell_type": "code",
   "execution_count": null,
   "metadata": {},
   "outputs": [],
   "source": [
    "print (loc_1.shape)"
   ]
  },
  {
   "cell_type": "markdown",
   "metadata": {},
   "source": [
    "Data para 731 días en 3 columnas (AWND, WSF2, WSF5)!"
   ]
  },
  {
   "cell_type": "markdown",
   "metadata": {},
   "source": [
    "## A graficar!"
   ]
  },
  {
   "cell_type": "markdown",
   "metadata": {},
   "source": [
    "En Python, la libraría más popular para graficar es **Matplotlib**. En un código Python común, sus principales funcionalidades se importan así:\n",
    "\n",
    "```Python\n",
    "import matplotlib.pyplot as plt\n",
    "```\n",
    "\n",
    "Acuérdense de la función de `as`: es solamente para ahorrar tiempo!\n",
    "\n",
    "En estos IPython notebooks, debemos ser un poco más cuidadosos. Si queremos que los gráficos aparezcan en el notebook, debemos agregar:\n",
    "\n",
    "```Python\n",
    "%matplotlib inline\n",
    "```"
   ]
  },
  {
   "cell_type": "code",
   "execution_count": null,
   "metadata": {},
   "outputs": [],
   "source": [
    "%matplotlib inline\n",
    "import matplotlib.pyplot as plt"
   ]
  },
  {
   "cell_type": "markdown",
   "metadata": {},
   "source": [
    "Partamos por graficar la velocidad promedio en las locaciones 1 y 2 (primera columna)"
   ]
  },
  {
   "cell_type": "code",
   "execution_count": null,
   "metadata": {},
   "outputs": [],
   "source": [
    "plt.figure(figsize=(11,8))\n",
    "plt.plot(loc_1[:,0]);\n",
    "plt.plot(loc_2[:,0]);\n",
    "plt.legend([\"Locacion 1\",\"Locacion 3\"]);"
   ]
  },
  {
   "cell_type": "markdown",
   "metadata": {},
   "source": [
    "Tenemos un gráfico! Pero es bien poco lo que se puede ver. \n",
    "\n",
    "Para suavizar la data, podemos usar un promedio móvil. Un promedio móvil de $N$ datos con una ventana $n$ toma los $n$ datos más cercanos a $i$ y los promedia:\n",
    "\n",
    "$$\n",
    "\\overline{u}_i = \\frac{1}{n}\\sum_{j=i-n/2}^{i+n/2} u_j\n",
    "$$\n",
    "\n",
    "¿Qué pasa si $i<n/2$ o $i>N-n/2$ y no puedo hacer la suma? ¡Tomen los valores que puedan! Por ejemplo, si la ventana es de 30 datos $(n=30)$, el promedio móvil en $i=3$ tomará los datos desde $i=0$ hasta $i=18$.\n",
    "\n",
    "Ahora, tendrán que trabajar un poco. Con lo aprendido hasta ahora, generen una función que calcule el promedio móvil de la velocidad promedio en las tres locaciones, usando una ventana de 30 días, y comparen en un gráfico."
   ]
  },
  {
   "cell_type": "code",
   "execution_count": null,
   "metadata": {},
   "outputs": [],
   "source": [
    "#### Alumno\n",
    "# Hacer una función que calcule la media móvil y graficar\n",
    "####\n",
    "    "
   ]
  },
  {
   "cell_type": "markdown",
   "metadata": {},
   "source": [
    "¿Ven que la data es muchísimo más suave, y más legible? Prueben que pasa si usan ventanas más grandes o pequeñas. ¿Cuál locación es mejor para poner la granja eólica?\n",
    "\n",
    "\n",
    "## Condiciones de operación\n",
    "A pesar que con la velocidad promedio es un parámetro importante a considerar, sabemos que no es el único. Dijimos anteriormente que el sistema de seguridad frenaría las aspas en caso de que la velocidad pasara cierto umbral, lo cual limita el factor de planta.\n",
    "\n",
    "Usando la velocidad máxima de dos minutos de duración, escriban una función que cuente la cantidad de días en que la granja se detendría en cada locación. Luego, grafiquen la velocidad y sobrepongan una línea que indique el umbral.\n",
    "\n",
    "Para estar seguros, queremos tener la misma información para la velocidad máxima de cinco segundos de duración.    \n",
    "\n"
   ]
  },
  {
   "cell_type": "code",
   "execution_count": null,
   "metadata": {},
   "outputs": [],
   "source": [
    "###ALUMNO\n",
    "# Hacer función que cuente el número de días que pasa el máximo para 2 minutos y 5 segundos\n",
    "# y representenlo en un gráfico\n",
    "####"
   ]
  },
  {
   "cell_type": "markdown",
   "metadata": {},
   "source": [
    "¿Qué locación es más apropiada para instalar una granja eólica?"
   ]
  }
 ],
 "metadata": {
  "kernelspec": {
   "display_name": "Python 3",
   "language": "python",
   "name": "python3"
  },
  "language_info": {
   "codemirror_mode": {
    "name": "ipython",
    "version": 3
   },
   "file_extension": ".py",
   "mimetype": "text/x-python",
   "name": "python",
   "nbconvert_exporter": "python",
   "pygments_lexer": "ipython3",
   "version": "3.6.1"
  }
 },
 "nbformat": 4,
 "nbformat_minor": 1
}
