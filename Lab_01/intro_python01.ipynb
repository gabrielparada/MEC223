{
 "cells": [
  {
   "cell_type": "markdown",
   "metadata": {},
   "source": [
    "##### Contenido proveído bajo licencia Creative Commons Attribution, CC-BY 4.0. (c)2015 O. Skurtys y C. Cooper. Basado en JITcode-Mech, de L. Barba (CC-BY 4.0)."
   ]
  },
  {
   "cell_type": "markdown",
   "metadata": {},
   "source": [
    "# Introducción a Python, sesión 1\n"
   ]
  },
  {
   "cell_type": "markdown",
   "metadata": {},
   "source": [
    "Bienvenidos al primer laboratorio del curso Fundamentos de Dinámica de Fluidos Computacional. Este módulo es una introducción a Python y los Jupyter notebooks, que usaremos permanentemente para presentar el material durante el semestre. El objetivo de este laboratorio es que se ambienten en los Jupyter notebooks, y repasen un poco de Python."
   ]
  },
  {
   "cell_type": "markdown",
   "metadata": {},
   "source": [
    "## Python en tu computador"
   ]
  },
  {
   "cell_type": "markdown",
   "metadata": {},
   "source": [
    "A pesar que Python y Jupyter notebooks están instalados en los computadores del Laboratorio de Mecánica Computacional, es altamente recomendable que lo instalen en sus computadores personales. Así, podrán trabajar sin depender de los horarios del Laboratorio.\n",
    "\n",
    "Una forma fácil de obtener Python en tu computador es usando las distribuciones de [Anaconda](https://store.continuum.io/cshop/anaconda/) o [Canopy](https://store.enthought.com/), que son gratis. Si están familiarizados con [pip](https://docs.python.org/2.7/installing/), pueden usarlo para instalar [Jupyter](http://jupyter.readthedocs.org/en/latest/install.html).\n",
    "\n",
    "Lamentablemente (o no!), vamos a tener que usar la línea de comandos un poco. De usar OSX o Linux, simplemente vayan al directorio donde quieren trabajar (usando `cd`), y escriban `jupyter notebook`. Esto abrirá una pestaña en su browser con el Jupyter notebook. Si usan Windows, deben descargar algun terminal para Windows, como PowerShell o [Console](http://ipython.org/ipython-doc/2/install/install.html#windows).\n",
    "\n",
    "Una vez que tengan el Jupyter notebook frente suyo, pueden ejecutar celda a celda apretando Shift-Enter."
   ]
  },
  {
   "cell_type": "markdown",
   "metadata": {},
   "source": [
    "# Bases de Python"
   ]
  },
  {
   "cell_type": "markdown",
   "metadata": {},
   "source": [
    "Si es primera vez que usan Python, no se preocupen, con algunos conocimientos básicos van a poder realizar los laboratorios de este curso sin problemas. \n",
    "\n",
    "Lo primero, deben saber lo que son las *librerías*: una colección de funciones pre-hechas que nos facilitan la vida. "
   ]
  },
  {
   "cell_type": "markdown",
   "metadata": {},
   "source": [
    "## Librerias"
   ]
  },
  {
   "cell_type": "markdown",
   "metadata": {},
   "source": [
    "Python es un lenguage de alto nivel de abstracción, y está lleno de paquetes y librerías muy poderosas para operar sobre arreglos, hacer gráficos, resolver sistemas lineales, etc. La que más utilizaremos es **Numpy**. Ésta es una librería que contiene operaciones sobre arreglos, estilo MATLAB. Para importarla, escriban `import numpy` (acuérdense de apretar Shift-Enter para ejecutar la celda):"
   ]
  },
  {
   "cell_type": "code",
   "execution_count": null,
   "metadata": {
    "collapsed": false
   },
   "outputs": [],
   "source": [
    "import numpy"
   ]
  },
  {
   "cell_type": "markdown",
   "metadata": {},
   "source": [
    "De ahora en adelante en este notebook, `numpy` estará disponible.\n",
    "\n",
    "Hagamos un ejemplo. La función [`linspace()`](http://docs.scipy.org/doc/numpy/reference/generated/numpy.linspace.html) genera un arreglo de valores equidistantes entre un mínimo y un máximo:"
   ]
  },
  {
   "cell_type": "code",
   "execution_count": null,
   "metadata": {
    "collapsed": false
   },
   "outputs": [],
   "source": [
    "myarray = numpy.linspace(0, 5, 10)"
   ]
  },
  {
   "cell_type": "markdown",
   "metadata": {},
   "source": [
    "Se estarán preguntando por qué no apareció un arreglo con 10 valores entre 0 y 5: Python lo guardó en la variable `myarray`. Este arreglo estará disponible de ahora en adelante en todo el notebook. Preguntemos su valor:"
   ]
  },
  {
   "cell_type": "code",
   "execution_count": null,
   "metadata": {
    "collapsed": false
   },
   "outputs": [],
   "source": [
    "print (myarray)"
   ]
  },
  {
   "cell_type": "markdown",
   "metadata": {},
   "source": [
    "Prueben con otros parámetros:"
   ]
  },
  {
   "cell_type": "code",
   "execution_count": null,
   "metadata": {
    "collapsed": false
   },
   "outputs": [],
   "source": [
    "myarray = numpy.linspace(0, 2, 11)\n",
    "print (myarray)"
   ]
  },
  {
   "cell_type": "markdown",
   "metadata": {},
   "source": [
    "Algo muy poderoso de **Numpy** es que nos permite operar sobre arreglos ¿A qué nos referimos con esto? Digamos que queremos sumar dos arreglos:"
   ]
  },
  {
   "cell_type": "code",
   "execution_count": null,
   "metadata": {
    "collapsed": false
   },
   "outputs": [],
   "source": [
    "array1 = numpy.linspace(0, 10, 10)\n",
    "array2 = numpy.linspace(10, 20, 10)\n",
    "array_sum = array1 + array2\n",
    "print (array_sum)"
   ]
  },
  {
   "cell_type": "markdown",
   "metadata": {},
   "source": [
    "Si hubiesen querido hacer esto con Fortran o C/C++ habrían tenido que usar un loop!"
   ]
  },
  {
   "cell_type": "markdown",
   "metadata": {},
   "source": [
    "Otra forma común de llamar a Numpy es\n",
    "\n",
    "```Python\n",
    "import numpy as np\n",
    "myarray = np.linspace(0, 10, 10)\n",
    "```\n",
    "\n",
    "¿Qué es esto de `import...as`? \n",
    "\n",
    "Estamos importando Numpy, pero le ponemos un nombre que nosotros elegimos (`np`), para ahorrar algo de teclado. Incluso podrían hacerlo así:\n",
    "\n",
    "```Python\n",
    "from numpy import *\n",
    "myarray = linspace(0, 10, 10)\n",
    "```\n",
    "\n",
    "Sin embargo, es bueno mantener el nombre de la librería para llamar a sus funciones. Así, se evitan confusiones si ustedes generan una función con un nombre que ya existe en Numpy. \n",
    "\n",
    "Otras librerías muy útiles son **Matplotlib**, para graficar, y **Scipy**, que contiene herramientas de computación científica, como métodos para resolver sistemas lineales. Iremos presentando estas librerias a medida que las necesitemos."
   ]
  },
  {
   "cell_type": "markdown",
   "metadata": {},
   "source": [
    "## Variables"
   ]
  },
  {
   "cell_type": "markdown",
   "metadata": {},
   "source": [
    "Python no necesita que uno declare los tipos de variables explicitamente, como C o Fortran. Asignen un valor y Python lo va a interpretar:"
   ]
  },
  {
   "cell_type": "code",
   "execution_count": null,
   "metadata": {
    "collapsed": false
   },
   "outputs": [],
   "source": [
    "a = 5      # a is an integer 5\n",
    "b = 'five' # b is a string of the word 'five'\n",
    "c = 5.0    # c is a floating point number 5.0  "
   ]
  },
  {
   "cell_type": "markdown",
   "metadata": {},
   "source": [
    "Y si quieren saber el tipo de cada variable, pueden preguntar:"
   ]
  },
  {
   "cell_type": "code",
   "execution_count": null,
   "metadata": {
    "collapsed": false
   },
   "outputs": [],
   "source": [
    "type(a)"
   ]
  },
  {
   "cell_type": "code",
   "execution_count": null,
   "metadata": {
    "collapsed": false
   },
   "outputs": [],
   "source": [
    "type(b)"
   ]
  },
  {
   "cell_type": "code",
   "execution_count": null,
   "metadata": {
    "collapsed": false
   },
   "outputs": [],
   "source": [
    "type(c)"
   ]
  },
  {
   "cell_type": "markdown",
   "metadata": {},
   "source": [
    "Eso si, hay que tener cuidado cuando uno hace una división con valores `float` o `int`. En Python 3.X o mayor pueden tener algo que no esperan, por ejemplo:"
   ]
  },
  {
   "cell_type": "code",
   "execution_count": null,
   "metadata": {
    "collapsed": false
   },
   "outputs": [],
   "source": [
    "14/a"
   ]
  },
  {
   "cell_type": "code",
   "execution_count": null,
   "metadata": {
    "collapsed": false
   },
   "outputs": [],
   "source": [
    "14/c"
   ]
  },
  {
   "cell_type": "markdown",
   "metadata": {},
   "source": [
    "Como ven, si se dividen dos números enteros, Python devuelve un real. Si quieren que devuelva un valor entero, simplemente usen el operador `//`:"
   ]
  },
  {
   "cell_type": "code",
   "execution_count": null,
   "metadata": {
    "collapsed": false
   },
   "outputs": [],
   "source": [
    "14//a"
   ]
  },
  {
   "cell_type": "markdown",
   "metadata": {},
   "source": [
    "## Espacios en Python"
   ]
  },
  {
   "cell_type": "markdown",
   "metadata": {},
   "source": [
    "Python usa la indentación para agrupar partes del código que caen dentro de una misma sentencia. Algo así como los paréntesis de llave en C: \n",
    "```C\n",
    "for (i = 0, i < 5, i++){\n",
    "    printf(\"Hi! \\n\");\n",
    "    }\n",
    "```\n",
    "Python lo hace indentando lo que está dentro del `for`:"
   ]
  },
  {
   "cell_type": "code",
   "execution_count": null,
   "metadata": {
    "collapsed": false
   },
   "outputs": [],
   "source": [
    "for i in range(5):\n",
    "    print (\"Hi \\n\")"
   ]
  },
  {
   "cell_type": "markdown",
   "metadata": {},
   "source": [
    "¿Se fijaron en la función [`range()`](http://docs.python.org/release/1.5.1p1/tut/range.html)? Esta es una función de Python que entrega una lista con una progresión geométrica."
   ]
  },
  {
   "cell_type": "code",
   "execution_count": null,
   "metadata": {
    "collapsed": false
   },
   "outputs": [],
   "source": [
    "range(5)"
   ]
  },
  {
   "cell_type": "markdown",
   "metadata": {},
   "source": [
    "Si tienen `for` anidados, indentas una vez más:"
   ]
  },
  {
   "cell_type": "code",
   "execution_count": null,
   "metadata": {
    "collapsed": false
   },
   "outputs": [],
   "source": [
    "for i in range(3):\n",
    "    for j in range(3):\n",
    "        print (i, j)\n",
    "    \n",
    "    print (\"This statement is within the i-loop, but not the j-loop\")"
   ]
  },
  {
   "cell_type": "markdown",
   "metadata": {},
   "source": [
    "## Cortando arreglos"
   ]
  },
  {
   "cell_type": "markdown",
   "metadata": {},
   "source": [
    "En Numpy se pueden ver porciones de arreglos de la misma forma que MATLAB. Por ejemplo:"
   ]
  },
  {
   "cell_type": "code",
   "execution_count": null,
   "metadata": {
    "collapsed": false
   },
   "outputs": [],
   "source": [
    "myvals = numpy.array([1, 2, 3, 4, 5])\n",
    "myvals"
   ]
  },
  {
   "cell_type": "markdown",
   "metadata": {},
   "source": [
    "Python comienza su indexación desde 0 (como C). Por lo tanto, el primer y último valor del arreglo son:"
   ]
  },
  {
   "cell_type": "code",
   "execution_count": null,
   "metadata": {
    "collapsed": false
   },
   "outputs": [],
   "source": [
    "myvals[0], myvals[4]"
   ]
  },
  {
   "cell_type": "markdown",
   "metadata": {},
   "source": [
    "Hay 5 elementos en `myvals`, por lo tanto `myvals[5]` es el sexto elemento, y al intentar buscarlo les devolverá un error:"
   ]
  },
  {
   "cell_type": "code",
   "execution_count": null,
   "metadata": {
    "collapsed": false
   },
   "outputs": [],
   "source": [
    "myvals[5]"
   ]
  },
  {
   "cell_type": "markdown",
   "metadata": {},
   "source": [
    "También podemos *cortar* arreglos, tomando un rango de valores. Los tres primeros valores de `myvals`son:"
   ]
  },
  {
   "cell_type": "code",
   "execution_count": null,
   "metadata": {
    "collapsed": false
   },
   "outputs": [],
   "source": [
    "myvals[0:3]"
   ]
  },
  {
   "cell_type": "markdown",
   "metadata": {},
   "source": [
    "Fíjense que este rango es inclusivo en el principio (incluye el `myvals[0]`) pero exclusivo al final (no incluye `myvals[3]`)."
   ]
  },
  {
   "cell_type": "markdown",
   "metadata": {},
   "source": [
    "## Asignando variables a arreglos"
   ]
  },
  {
   "cell_type": "markdown",
   "metadata": {},
   "source": [
    "Una cosa algo confusa de Python ocurre cuando se asigna una variable a un arreglo de valores. Veamos un ejemplo con un arreglo unidimensional `a`:"
   ]
  },
  {
   "cell_type": "code",
   "execution_count": null,
   "metadata": {
    "collapsed": false
   },
   "outputs": [],
   "source": [
    "a = numpy.linspace(1,5,5)"
   ]
  },
  {
   "cell_type": "code",
   "execution_count": null,
   "metadata": {
    "collapsed": false
   },
   "outputs": [],
   "source": [
    "a"
   ]
  },
  {
   "cell_type": "markdown",
   "metadata": {},
   "source": [
    "Todo bien hasta ahora. Digamos que queremos hacer una copia de `a` en la variable `b`:"
   ]
  },
  {
   "cell_type": "code",
   "execution_count": null,
   "metadata": {
    "collapsed": false
   },
   "outputs": [],
   "source": [
    "b = a"
   ]
  },
  {
   "cell_type": "code",
   "execution_count": null,
   "metadata": {
    "collapsed": false
   },
   "outputs": [],
   "source": [
    "b"
   ]
  },
  {
   "cell_type": "markdown",
   "metadata": {},
   "source": [
    "De nuevo, todo parece estar bien. Los arreglos `a` y `b` tienen valores de 1 a 5. Ahora que tengo una copia de `a`, puedo cambiar sus valores sin preocuparme de perder data... ¿o no?"
   ]
  },
  {
   "cell_type": "code",
   "execution_count": null,
   "metadata": {
    "collapsed": false
   },
   "outputs": [],
   "source": [
    "a[2] = 17"
   ]
  },
  {
   "cell_type": "code",
   "execution_count": null,
   "metadata": {
    "collapsed": false
   },
   "outputs": [],
   "source": [
    "a"
   ]
  },
  {
   "cell_type": "markdown",
   "metadata": {},
   "source": [
    "El tercer elemento fue cambiado a 17, todo bien. Revisemos `b`:"
   ]
  },
  {
   "cell_type": "code",
   "execution_count": null,
   "metadata": {
    "collapsed": false
   },
   "outputs": [],
   "source": [
    "b"
   ]
  },
  {
   "cell_type": "markdown",
   "metadata": {},
   "source": [
    "Aquí comienza la confusión: ¿que pasó con `b`? ¿En qué minuto cambió? Lo que ocurrió fue que al hacer `a=b`, en vez de generar un nuevo arreglo `b` y copiar los valores de `a` en ese nuevo arreglo, Python creo un alias de `a` llamado `b`: `a` y `b` apuntan al mismo espacio en la memoria. Para hacer una copia aparte, usamos:"
   ]
  },
  {
   "cell_type": "code",
   "execution_count": null,
   "metadata": {
    "collapsed": false
   },
   "outputs": [],
   "source": [
    "c = a.copy()"
   ]
  },
  {
   "cell_type": "markdown",
   "metadata": {},
   "source": [
    "Para estar seguros, cambiemos el valor de `a[2]` de vuelta a 3: "
   ]
  },
  {
   "cell_type": "code",
   "execution_count": null,
   "metadata": {
    "collapsed": false
   },
   "outputs": [],
   "source": [
    "a[2] = 3"
   ]
  },
  {
   "cell_type": "code",
   "execution_count": null,
   "metadata": {
    "collapsed": false
   },
   "outputs": [],
   "source": [
    "a"
   ]
  },
  {
   "cell_type": "code",
   "execution_count": null,
   "metadata": {
    "collapsed": false
   },
   "outputs": [],
   "source": [
    "c"
   ]
  },
  {
   "cell_type": "markdown",
   "metadata": {},
   "source": [
    "Y eso se comporta como esperabamos.\n",
    "\n",
    "--- "
   ]
  },
  {
   "cell_type": "markdown",
   "metadata": {},
   "source": [
    "## Más información"
   ]
  },
  {
   "cell_type": "markdown",
   "metadata": {},
   "source": [
    "Visiten la página de [Numpy](http://docs.scipy.org/doc/numpy/reference/) para aprender de más funciones que Numpy ofrece. Para los usuarios de Matlab, lo siguiente puede ser útil: [NumPy for Matlab Users](http://wiki.scipy.org/NumPy_for_Matlab_Users)"
   ]
  },
  {
   "cell_type": "code",
   "execution_count": null,
   "metadata": {
    "collapsed": true
   },
   "outputs": [],
   "source": []
  }
 ],
 "metadata": {
  "kernelspec": {
   "display_name": "Python 3",
   "language": "python",
   "name": "python3"
  },
  "language_info": {
   "codemirror_mode": {
    "name": "ipython",
    "version": 3
   },
   "file_extension": ".py",
   "mimetype": "text/x-python",
   "name": "python",
   "nbconvert_exporter": "python",
   "pygments_lexer": "ipython3",
   "version": "3.4.3"
  }
 },
 "nbformat": 4,
 "nbformat_minor": 0
}
